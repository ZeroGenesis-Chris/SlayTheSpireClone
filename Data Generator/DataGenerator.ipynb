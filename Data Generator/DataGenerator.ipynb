{
 "cells": [
  {
   "cell_type": "markdown",
   "metadata": {},
   "source": [
    "# Imports"
   ]
  },
  {
   "cell_type": "code",
   "execution_count": 5,
   "metadata": {},
   "outputs": [],
   "source": [
    "import random\n",
    "import pandas as pd\n",
    "import numpy as np\n",
    "from typing import List, Dict\n",
    "import json"
   ]
  },
  {
   "cell_type": "markdown",
   "metadata": {},
   "source": [
    "# Slay the Spire Data Generator"
   ]
  },
  {
   "cell_type": "code",
   "execution_count": 6,
   "metadata": {},
   "outputs": [],
   "source": [
    "class SlayTheSpireDataGenerator:\n",
    "    def __init__(self, num_players=1000):\n",
    "        self.num_players = num_players\n",
    "        self.data = []\n",
    "        self.characters = ['Ironclad', 'Silent', 'Defect', 'Watcher']\n",
    "        self.ascension_levels = list(range(1, 21))\n",
    "\n",
    "    def generate_player_profile(self) -> Dict:\n",
    "        \"\"\"Generate a player profile mimicking Slay the Spire mechanics\"\"\"\n",
    "        return {\n",
    "            'player_id': random.randint(1000, 9999),\n",
    "            'character': random.choice(self.characters),\n",
    "            'ascension_level': random.choice(self.ascension_levels),\n",
    "            'total_runs': random.randint(10, 500),\n",
    "            'max_score': random.randint(500, 5000),\n",
    "            'win_streak': random.randint(0, 20)\n",
    "        }\n",
    "\n",
    "    def simulate_run(self, player_profile: Dict) -> Dict:\n",
    "        \"\"\"Simulate a Slay the Spire-like game run\"\"\"\n",
    "        # Adjust difficulty based on ascension level\n",
    "        base_hp_loss = max(10, player_profile['ascension_level'] * 2)\n",
    "        \n",
    "        run_data = {\n",
    "            'player_id': player_profile['player_id'],\n",
    "            'character': player_profile['character'],\n",
    "            'ascension_level': player_profile['ascension_level'],\n",
    "            'run_id': random.randint(10000, 99999),\n",
    "            \n",
    "            # Card-related metrics\n",
    "            'cards_obtained': random.randint(15, 50),\n",
    "            'card_removal_count': random.randint(0, 5),\n",
    "            'card_upgrade_count': random.randint(0, 10),\n",
    "            \n",
    "            # Combat and health metrics\n",
    "            'elites_defeated': random.randint(0, 4),\n",
    "            'boss_defeated': random.choice([True, False]),\n",
    "            'starting_hp': 80,\n",
    "            'max_hp_gain': random.randint(0, 30),\n",
    "            'hp_loss_on_damage': random.randint(base_hp_loss, base_hp_loss * 2),\n",
    "            \n",
    "            # Relics and events\n",
    "            'relics_collected': random.randint(0, 10),\n",
    "            'events_encountered': random.randint(1, 10),\n",
    "            \n",
    "            # Score and progression\n",
    "            'floor_reached': random.randint(20, 60),\n",
    "            'gold_collected': random.randint(100, 1000),\n",
    "            \n",
    "            # Outcome\n",
    "            'run_outcome': random.choices(['win', 'lose'], weights=[0.2, 0.8])[0]\n",
    "        }\n",
    "        \n",
    "        # Adjust final score based on run outcome and ascension level\n",
    "        base_score = (run_data['floor_reached'] * 50) + (run_data['gold_collected'])\n",
    "        run_data['final_score'] = base_score if run_data['run_outcome'] == 'win' else base_score // 2\n",
    "        \n",
    "        return run_data\n",
    "\n",
    "    def generate_dataset(self) -> pd.DataFrame:\n",
    "        \"\"\"Generate comprehensive game dataset\"\"\"\n",
    "        for _ in range(self.num_players):\n",
    "            player_profile = self.generate_player_profile()\n",
    "            num_runs = random.randint(5, 50)\n",
    "            \n",
    "            for _ in range(num_runs):\n",
    "                run_data = self.simulate_run(player_profile)\n",
    "                run_data.update(player_profile)\n",
    "                self.data.append(run_data)\n",
    "        \n",
    "        return pd.DataFrame(self.data)\n",
    "\n",
    "    def analyze_dataset(self, df):\n",
    "        \"\"\"Perform Slay the Spire-specific analysis\"\"\"\n",
    "        # Calculate win rates per character correctly\n",
    "        character_win_rates = df.groupby('character')['run_outcome'].apply(\n",
    "            lambda x: (x == 'win').mean()\n",
    "        ).to_dict()\n",
    "        \n",
    "        # Calculate win rates per ascension level\n",
    "        ascension_win_rates = df.groupby('ascension_level')['run_outcome'].apply(\n",
    "            lambda x: (x == 'win').mean()\n",
    "        ).to_dict()\n",
    "        \n",
    "        analysis = {\n",
    "            'total_players': df['player_id'].nunique(),\n",
    "            'total_runs': len(df),\n",
    "            'character_win_rates': character_win_rates,\n",
    "            'average_floor_reached': df['floor_reached'].mean(),\n",
    "            'ascension_level_performance': ascension_win_rates,\n",
    "            'avg_relics_per_run': df['relics_collected'].mean(),\n",
    "            'avg_cards_obtained': df['cards_obtained'].mean(),\n",
    "            'max_score_overall': df['final_score'].max()\n",
    "        }\n",
    "        return analysis\n"
   ]
  },
  {
   "cell_type": "markdown",
   "metadata": {},
   "source": [
    "# Entry Point"
   ]
  },
  {
   "cell_type": "code",
   "execution_count": 7,
   "metadata": {},
   "outputs": [],
   "source": [
    "def main():\n",
    "    generator = SlayTheSpireDataGenerator(num_players=5000)\n",
    "    df = generator.generate_dataset()\n",
    "    df.to_csv('slay_the_spire_analytics.csv', index=False)\n",
    "    \n",
    "    analysis = generator.analyze_dataset(df)\n",
    "    \n",
    "    with open('slay_the_spire_analysis.json', 'w') as f:\n",
    "        json.dump({k: str(v) for k, v in analysis.items()}, f, indent=2)\n",
    "    \n",
    "    print(\"Slay the Spire dataset and analysis generated!\")\n"
   ]
  },
  {
   "cell_type": "code",
   "execution_count": 8,
   "metadata": {},
   "outputs": [
    {
     "name": "stdout",
     "output_type": "stream",
     "text": [
      "Slay the Spire dataset and analysis generated!\n"
     ]
    }
   ],
   "source": [
    "main()"
   ]
  },
  {
   "cell_type": "markdown",
   "metadata": {},
   "source": [
    "# Create data visualizations for insights from the Slay the Spire dataset\n",
    "\n",
    "Use libraries like matplotlib, seaborn or plotly"
   ]
  },
  {
   "cell_type": "code",
   "execution_count": null,
   "metadata": {},
   "outputs": [],
   "source": [
    "pip install matplotlib seaborn"
   ]
  },
  {
   "cell_type": "markdown",
   "metadata": {},
   "source": [
    "# Imports"
   ]
  },
  {
   "cell_type": "code",
   "execution_count": null,
   "metadata": {},
   "outputs": [],
   "source": []
  },
  {
   "cell_type": "markdown",
   "metadata": {},
   "source": [
    "# Visualization code"
   ]
  },
  {
   "cell_type": "code",
   "execution_count": null,
   "metadata": {},
   "outputs": [],
   "source": []
  },
  {
   "cell_type": "markdown",
   "metadata": {},
   "source": [
    "# Call Visualization code"
   ]
  },
  {
   "cell_type": "code",
   "execution_count": null,
   "metadata": {},
   "outputs": [],
   "source": []
  },
  {
   "cell_type": "markdown",
   "metadata": {},
   "source": [
    "Win Rates by Character: A bar graph showing the win rate for each character (e.g., Ironclad, Silent, Defect, Watcher).\n",
    "\n",
    "Win Rates by Ascension Level: A line graph showing how win rates change with ascension levels.\n",
    "\n",
    "Distribution of Floors Reached: A histogram of the frequency of floors reached across all runs.\n"
   ]
  }
 ],
 "metadata": {
  "kernelspec": {
   "display_name": "Python 3",
   "language": "python",
   "name": "python3"
  },
  "language_info": {
   "codemirror_mode": {
    "name": "ipython",
    "version": 3
   },
   "file_extension": ".py",
   "mimetype": "text/x-python",
   "name": "python",
   "nbconvert_exporter": "python",
   "pygments_lexer": "ipython3",
   "version": "3.12.7"
  }
 },
 "nbformat": 4,
 "nbformat_minor": 2
}
